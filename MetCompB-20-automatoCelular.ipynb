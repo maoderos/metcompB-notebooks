{
 "cells": [
  {
   "cell_type": "markdown",
   "id": "400f35c2-0b34-40cf-82e7-974631500a3f",
   "metadata": {},
   "source": [
    "# Autômato Celular"
   ]
  },
  {
   "cell_type": "markdown",
   "id": "9b6e0432-333d-4b82-98e5-c6c88acccf13",
   "metadata": {},
   "source": [
    "## 2 Estados e primeiros vizinhos:\n",
    "\n",
    "$$x_{j-1},x_j,x_{j+1}$$\n",
    "\n",
    "Então sao 2^3 = 8 possíveis configurações e  2^8 regras.\n",
    "\n",
    "## 3 estados e primeiros vizinhos:\n",
    "\n",
    "$$x_{j-1},x_j,x_{j+1}$$\n",
    "\n",
    "Então sao 3^3 = 27 possíveis configurações e  3^27 regras.\n",
    "\n",
    "## 2 estados e primeiros e vizinhos:"
   ]
  }
 ],
 "metadata": {
  "kernelspec": {
   "display_name": "Python 3 (ipykernel)",
   "language": "python",
   "name": "python3"
  },
  "language_info": {
   "codemirror_mode": {
    "name": "ipython",
    "version": 3
   },
   "file_extension": ".py",
   "mimetype": "text/x-python",
   "name": "python",
   "nbconvert_exporter": "python",
   "pygments_lexer": "ipython3",
   "version": "3.8.10"
  }
 },
 "nbformat": 4,
 "nbformat_minor": 5
}
