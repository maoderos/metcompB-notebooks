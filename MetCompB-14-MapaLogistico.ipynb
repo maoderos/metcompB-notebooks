{
 "cells": [
  {
   "cell_type": "markdown",
   "metadata": {
    "id": "UpAjUvlS5YDE"
   },
   "source": [
    "# Mapa Logístico\n",
    "\n",
    "\n",
    "$x_{n+1} = ax_n(1 - x_n)$"
   ]
  },
  {
   "cell_type": "code",
   "execution_count": null,
   "metadata": {
    "colab": {
     "base_uri": "https://localhost:8080/",
     "height": 282
    },
    "id": "6mwVd4lT5Zld",
    "outputId": "37f297ea-bb3b-4597-f7b3-b58931035d2e"
   },
   "outputs": [
    {
     "data": {
      "text/plain": [
       "<matplotlib.legend.Legend at 0x7f7e996bd750>"
      ]
     },
     "execution_count": 13,
     "metadata": {},
     "output_type": "execute_result"
    },
    {
     "data": {
      "image/png": "[encoded data removed]",
      "text/plain": [
       "<Figure size 432x288 with 1 Axes>"
      ]
     },
     "metadata": {
      "needs_background": "light"
     },
     "output_type": "display_data"
    }
   ],
   "source": [
    "import numpy as np\n",
    "import matplotlib.pyplot as plt \n",
    "\n",
    "def f(x,a):\n",
    "  return a*x*(1-x)\n",
    "\n",
    "x0 = 0.7\n",
    "a_list = [0.1,1.2,3.1,4]\n",
    "for i in a_list:\n",
    "  x = x0\n",
    "  t = 0\n",
    "  x_l = [x0]\n",
    "  x_n = []\n",
    "  x_n_plus_1 = []\n",
    "  t_l = [0]\n",
    "  while(t < 30):\n",
    "    x_n.append(x)\n",
    "    x = f(x,i)\n",
    "    x_l.append(x)\n",
    "    x_n_plus_1.append(x)\n",
    "    t += 1\n",
    "    t_l.append(t)\n",
    "  plt.plot(t_l,x_l,'o',label = \"a = {0}\".format(i))\n",
    "\n",
    "plt.legend()"
   ]
  },
  {
   "cell_type": "code",
   "execution_count": null,
   "metadata": {
    "colab": {
     "base_uri": "https://localhost:8080/",
     "height": 282
    },
    "id": "MQP0v7Bs-ey_",
    "outputId": "04a95885-8419-458a-9616-842648bcc4ca"
   },
   "outputs": [
    {
     "data": {
      "text/plain": [
       "<matplotlib.legend.Legend at 0x7f7e995bbb50>"
      ]
     },
     "execution_count": 14,
     "metadata": {},
     "output_type": "execute_result"
    },
    {
     "data": {
      "image/png": "[encoded data removed]",
      "text/plain": [
       "<Figure size 432x288 with 1 Axes>"
      ]
     },
     "metadata": {
      "needs_background": "light"
     },
     "output_type": "display_data"
    }
   ],
   "source": [
    "import numpy as np\n",
    "import matplotlib.pyplot as plt \n",
    "\n",
    "def f(x,a):\n",
    "  return a*x*(1-x)\n",
    "\n",
    "x0 = 0.7\n",
    "a_list = [0.1,1.2,3.1,4]\n",
    "for i in a_list:\n",
    "  x = x0\n",
    "  t = 0\n",
    "  x_l = [x0]\n",
    "  x_n = []\n",
    "  x_n_plus_1 = []\n",
    "  t_l = [0]\n",
    "  while(t < 30):\n",
    "    x_n.append(x)\n",
    "    x = f(x,i)\n",
    "    x_l.append(x)\n",
    "    x_n_plus_1.append(x)\n",
    "    t += 1\n",
    "    t_l.append(t)\n",
    "  plt.plot(x_n,x_n_plus_1,'o',label = \"a = {0}\".format(i))\n",
    "\n",
    "plt.legend()"
   ]
  },
  {
   "cell_type": "code",
   "execution_count": null,
   "metadata": {
    "id": "o0x9v4bnADAT"
   },
   "outputs": [],
   "source": []
  }
 ],
 "metadata": {
  "colab": {
   "name": "MetCompB-13-MapaLogistico.ipynb",
   "provenance": []
  },
  "kernelspec": {
   "display_name": "Python 3 (ipykernel)",
   "language": "python",
   "name": "python3"
  },
  "language_info": {
   "codemirror_mode": {
    "name": "ipython",
    "version": 3
   },
   "file_extension": ".py",
   "mimetype": "text/x-python",
   "name": "python",
   "nbconvert_exporter": "python",
   "pygments_lexer": "ipython3",
   "version": "3.8.10"
  }
 },
 "nbformat": 4,
 "nbformat_minor": 4
}
