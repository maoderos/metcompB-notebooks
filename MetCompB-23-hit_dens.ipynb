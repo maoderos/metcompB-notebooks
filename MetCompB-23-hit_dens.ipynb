{
 "cells": [
  {
   "cell_type": "markdown",
   "id": "4da4f73f-4561-4e21-893c-5583e99d2b35",
   "metadata": {},
   "source": [
    "# Mapa espectral"
   ]
  },
  {
   "cell_type": "code",
   "execution_count": 32,
   "id": "bd588a4a-08ed-4a0f-9d46-eb88e82a90a0",
   "metadata": {},
   "outputs": [
    {
     "data": {
      "image/png": "[encoded data removed]",
      "text/plain": [
       "<Figure size 432x288 with 1 Axes>"
      ]
     },
     "metadata": {
      "needs_background": "light"
     },
     "output_type": "display_data"
    }
   ],
   "source": [
    "import matplotlib.pyplot as plt\n",
    "import random as r\n",
    "\n",
    "def schrage():\n",
    "    while True:\n",
    "        yield r.uniform(-5,5)\n",
    "        \n",
    "\n",
    "\n",
    "N=10**5\n",
    "generator = schrage()\n",
    "xp = []\n",
    "for i in range(N):\n",
    "    xp.append(next(generator))\n",
    "xm = xp[1:]\n",
    "\n",
    "plt.scatter(xm,xp[:N-1])\n",
    "plt.show()"
   ]
  },
  {
   "cell_type": "code",
   "execution_count": 36,
   "id": "5c157474-8355-47b2-81e8-0d4a7990b621",
   "metadata": {},
   "outputs": [
    {
     "name": "stdout",
     "output_type": "stream",
     "text": [
      "<x^0> = 1.0\n",
      "<x^1> = -0.0019305375204149763\n",
      "<x^2> = 8.34155740431168\n",
      "<x^3> = -0.01609678867487325\n",
      "<x^4> = 125.25749603591034\n",
      "<x^5> = -0.22392193265167387\n"
     ]
    }
   ],
   "source": [
    "import random as rand\n",
    "import matplotlib.pyplot as plt\n",
    "L = 5\n",
    "M = 10**2\n",
    "\n",
    "N = 10**6\n",
    "z = []\n",
    "[z.append(rand.uniform(-L,L)) for i in range(N)]\n",
    "n = [0,1,2,3,4,5]\n",
    "for i in n:\n",
    "    momentum = 0 \n",
    "    for j in z:\n",
    "        momentum += j**i\n",
    "    print(\"<x^{0}> = {1}\".format(i,momentum/len(z)))\n",
    "    \n",
    "    "
   ]
  },
  {
   "cell_type": "code",
   "execution_count": null,
   "id": "71aff385-7595-4948-8182-571ea218b950",
   "metadata": {},
   "outputs": [],
   "source": []
  }
 ],
 "metadata": {
  "kernelspec": {
   "display_name": "Python 3 (ipykernel)",
   "language": "python",
   "name": "python3"
  },
  "language_info": {
   "codemirror_mode": {
    "name": "ipython",
    "version": 3
   },
   "file_extension": ".py",
   "mimetype": "text/x-python",
   "name": "python",
   "nbconvert_exporter": "python",
   "pygments_lexer": "ipython3",
   "version": "3.8.10"
  }
 },
 "nbformat": 4,
 "nbformat_minor": 5
}
