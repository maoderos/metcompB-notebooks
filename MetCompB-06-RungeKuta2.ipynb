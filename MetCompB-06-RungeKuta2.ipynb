{
 "cells": [
  {
   "cell_type": "markdown",
   "id": "c7a23def-bfed-4930-9962-2032ad1ad488",
   "metadata": {},
   "source": [
    "## Método de Runge-Kunta - Ponto médio\n",
    "\n",
    "$$ x_{n+1} = x_n + \\Delta t f(t_n + \\frac{\\Delta t}{2}, x_n + \\frac{\\Delta t}{2}f(x_n,t_n) )  $$"
   ]
  },
  {
   "cell_type": "markdown",
   "id": "464a66c8-edd5-4704-bc9a-7480c9fe6085",
   "metadata": {},
   "source": [
    "## Aplicação Modelo-SIR\n",
    "\n",
    "$$   \\frac{dS}{dt} = -\\frac{\\beta}{N} IS $$\n",
    "$$    \\frac{dI}{dt} = \\frac{\\beta I S}{N} - \\gamma I$$\n",
    "$$   \\frac{dR}{dt} = \\gamma I $$\n"
   ]
  },
  {
   "cell_type": "code",
   "execution_count": 15,
   "id": "e8fd1cf9-1f3f-419c-bcf3-670ec5cb6a16",
   "metadata": {},
   "outputs": [
    {
     "data": {
      "text/plain": [
       "<matplotlib.legend.Legend at 0x7fadbe3cb850>"
      ]
     },
     "execution_count": 15,
     "metadata": {},
     "output_type": "execute_result"
    },
    {
     "data": {
      "image/png": "[encoded data removed]",
      "text/plain": [
       "<Figure size 432x288 with 1 Axes>"
      ]
     },
     "metadata": {
      "needs_background": "light"
     },
     "output_type": "display_data"
    }
   ],
   "source": [
    "import numpy as np\n",
    "import matplotlib.pyplot as plt\n",
    "\n",
    "def fS(S,I):\n",
    "    return (-((b*I*S)/N))\n",
    "\n",
    "def fI(S,I):\n",
    "    return (((b*I*S)/N) - gamma*I)\n",
    "def fR(I):\n",
    "    return (gamma*I)\n",
    "\n",
    "# Valores iniciais   \n",
    "S_o = 99\n",
    "I_o = 1\n",
    "R_o = 0\n",
    "t_o = 0\n",
    "gamma = 0.5\n",
    "b = 1\n",
    "tf = 30\n",
    "dt=0.001\n",
    "N = S_o + I_o + R_o\n",
    "\n",
    "    \n",
    "S_list = [S_o]\n",
    "I_list = [I_o]\n",
    "R_list = [R_o]\n",
    "t_list = [t_o]\n",
    "\n",
    "S = S_o\n",
    "I = I_o\n",
    "R = R_o\n",
    "\n",
    "t = t_o + dt\n",
    "while(t < tf):\n",
    "    k1S = fS(S,I) \n",
    "    k1I = fI(S,I)\n",
    "    k1R = fR(I)\n",
    "    Saux = S + k1S*dt/2\n",
    "    Iaux = I + k1I*dt/2\n",
    "    Raux = R + k1R*dt/2\n",
    "    k2S = fS(Saux,Iaux)\n",
    "    k2I = fI(Saux,Iaux)\n",
    "    k2R = fR(Iaux)\n",
    "    S = S + k2S*dt\n",
    "    I = I + k2I*dt\n",
    "    R = R + k2R*dt\n",
    "    \n",
    "    S_list.append(S)\n",
    "    I_list.append(I)\n",
    "    R_list.append(R)\n",
    "    t_list.append(t)\n",
    "    \n",
    "    t += dt\n",
    "\n",
    "plt.plot(t_list,S_list,label=\"S(t)\")\n",
    "plt.plot(t_list,I_list,label=\"I(t)\")\n",
    "plt.plot(t_list,R_list,label=\"R(t)\")\n",
    "plt.legend()"
   ]
  },
  {
   "cell_type": "code",
   "execution_count": null,
   "id": "35b75853-c71c-4490-b0c6-6dac9225ef1d",
   "metadata": {},
   "outputs": [],
   "source": []
  }
 ],
 "metadata": {
  "kernelspec": {
   "display_name": "Python 3 (ipykernel)",
   "language": "python",
   "name": "python3"
  },
  "language_info": {
   "codemirror_mode": {
    "name": "ipython",
    "version": 3
   },
   "file_extension": ".py",
   "mimetype": "text/x-python",
   "name": "python",
   "nbconvert_exporter": "python",
   "pygments_lexer": "ipython3",
   "version": "3.10.2"
  }
 },
 "nbformat": 4,
 "nbformat_minor": 5
}
