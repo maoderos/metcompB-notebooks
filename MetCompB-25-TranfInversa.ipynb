{
 "cells": [
  {
   "cell_type": "markdown",
   "id": "9db1b2c3-5f14-4b82-8037-f6c09e435b7c",
   "metadata": {},
   "source": [
    "# Integração por relevância: Método da transformada inversa\n",
    "\n",
    "$$\\rho(x) = \\frac{2}{a}(1 - x/a)$$ \n",
    "\n",
    "$$y = a(1 \\pm \\sqrt{1-r}$$\n",
    "\n",
    "Calcular a integral\n",
    "\n",
    "$$I = \\int_{0}^{a} cos\\left(\\frac{\\pi x}{2a}\\right)$$"
   ]
  },
  {
   "cell_type": "code",
   "execution_count": 4,
   "id": "5feb9fb5-32f7-4d4d-8b5f-d78e07a86384",
   "metadata": {},
   "outputs": [
    {
     "name": "stdout",
     "output_type": "stream",
     "text": [
      "4096 0.6366197723675814 0.6378044593188941 0.0011846869513126856\n",
      "16384 0.6366197723675814 0.6361932338141199 0.0004265385534615307\n",
      "65536 0.6366197723675814 0.6369569313846204 0.00033715901703901263\n",
      "262144 0.6366197723675814 0.6365759377729412 4.3834594640190794e-05\n",
      "1048576 0.6366197723675814 0.6365182248054986 0.00010154756208280435\n",
      "4194304 0.6366197723675814 0.6366205790686279 8.067010465184765e-07\n"
     ]
    }
   ],
   "source": [
    "import math\n",
    "import numpy as np\n",
    "import random as r\n",
    "\n",
    "a=1\n",
    "for j in [6,7,8,9,10,11]:\n",
    "    N=4**(j)\n",
    "    z=[]\n",
    "    [z.append( a*(1 + np.sqrt(1 - r.random() ) ) ) for i in range(N)]\n",
    "    I=0.\n",
    "    for x in z:\n",
    "        I+=(np.cos((np.pi*x)/(2*a)))/( (2/a)*(1-(x/a)) )\n",
    "    I=I/N\n",
    "    exat = 2/np.pi\n",
    "    print(N,exat,I,np.abs(exat-I))\n",
    "  "
   ]
  },
  {
   "cell_type": "code",
   "execution_count": null,
   "id": "37fbc72b-a5cc-4c4b-b9bc-c9dc121c185e",
   "metadata": {},
   "outputs": [],
   "source": []
  }
 ],
 "metadata": {
  "kernelspec": {
   "display_name": "Python 3 (ipykernel)",
   "language": "python",
   "name": "python3"
  },
  "language_info": {
   "codemirror_mode": {
    "name": "ipython",
    "version": 3
   },
   "file_extension": ".py",
   "mimetype": "text/x-python",
   "name": "python",
   "nbconvert_exporter": "python",
   "pygments_lexer": "ipython3",
   "version": "3.8.10"
  }
 },
 "nbformat": 4,
 "nbformat_minor": 5
}
