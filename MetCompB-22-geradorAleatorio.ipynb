{
 "cells": [
  {
   "cell_type": "code",
   "execution_count": 18,
   "id": "87cf3834-34bf-4c7c-aaf3-d273f2897c2c",
   "metadata": {},
   "outputs": [
    {
     "data": {
      "image/png": "[encoded data removed]",
      "text/plain": [
       "<Figure size 432x288 with 1 Axes>"
      ]
     },
     "metadata": {
      "needs_background": "light"
     },
     "output_type": "display_data"
    }
   ],
   "source": [
    "import matplotlib.pyplot as plt\n",
    "\n",
    "\n",
    "def schrage(a,m,q,r,x):\n",
    "    while True:\n",
    "        x = a*(x % q) - r*int(x/q)\n",
    "        if x < 0:\n",
    "            x += m\n",
    "        yield x\n",
    "        \n",
    "\n",
    "#a = 16807, m = 2147483647, q = 127773 e r = 2836\n",
    "m,a,q,r=2147483647,  16807,  127773,2836\n",
    "#m,a=2**5-1,13\n",
    "#r = m % a\n",
    "#q = int(m/a)\n",
    "N,x=100,5\n",
    "generator = schrage(a,m,q,r,x)\n",
    "xp = [x/m]\n",
    "for i in range(N):\n",
    "    xp.append(next(generator)/m)\n",
    "xm = xp[1:]\n",
    "\n",
    "plt.scatter(xm,xp[:N])\n",
    "plt.show()"
   ]
  },
  {
   "cell_type": "code",
   "execution_count": null,
   "id": "e5e42634-59ad-4ee2-8a5d-dc26d0aa3a0f",
   "metadata": {},
   "outputs": [],
   "source": []
  },
  {
   "cell_type": "code",
   "execution_count": null,
   "id": "99953361-1039-447c-b501-8a74f2af8e52",
   "metadata": {},
   "outputs": [],
   "source": []
  },
  {
   "cell_type": "code",
   "execution_count": null,
   "id": "be2faade-5051-4169-a7bf-e3cade252f92",
   "metadata": {},
   "outputs": [],
   "source": []
  }
 ],
 "metadata": {
  "kernelspec": {
   "display_name": "Python 3 (ipykernel)",
   "language": "python",
   "name": "python3"
  },
  "language_info": {
   "codemirror_mode": {
    "name": "ipython",
    "version": 3
   },
   "file_extension": ".py",
   "mimetype": "text/x-python",
   "name": "python",
   "nbconvert_exporter": "python",
   "pygments_lexer": "ipython3",
   "version": "3.8.10"
  }
 },
 "nbformat": 4,
 "nbformat_minor": 5
}
