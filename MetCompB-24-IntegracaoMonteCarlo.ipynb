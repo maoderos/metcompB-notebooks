{
 "cells": [
  {
   "cell_type": "markdown",
   "id": "fb64bec7-30f9-49a5-bea9-dcfe130c4f4d",
   "metadata": {},
   "source": [
    "# Integração pelo método de Monte Carlo\n",
    "\n",
    "Calcular a integral: $f(x) = A \\frac{sen(x)}{x}$\n",
    "$$\\int_0^\\pi f(x) dx $$\n",
    "\n",
    "A = 10"
   ]
  },
  {
   "cell_type": "markdown",
   "id": "50789d30-c4d4-4b97-92da-3be0208fc8be",
   "metadata": {},
   "source": [
    "## Método de tentativa e erro"
   ]
  },
  {
   "cell_type": "code",
   "execution_count": 29,
   "id": "d2e15eaf-39e9-441f-863c-5f948e54e14b",
   "metadata": {},
   "outputs": [
    {
     "name": "stdout",
     "output_type": "stream",
     "text": [
      "18.513751082793462\n"
     ]
    }
   ],
   "source": [
    "import numpy as np\n",
    "import math\n",
    "import random as r\n",
    "\n",
    "\n",
    "def f(x): return (10*(np.sin(x)/x))\n",
    "\n",
    "\n",
    "lim_i = 0 \n",
    "lim_f = np.pi\n",
    "\n",
    "# máximo da função\n",
    "max_f_x = max(0 + 1e-6,lim_f,key=f)\n",
    "max_f = f(max_f_x)\n",
    "\n",
    "A_r = (lim_f - lim_i)*max_f\n",
    "\n",
    "N = 10**6\n",
    "y = []\n",
    "x = []\n",
    "for i in range(N):\n",
    "    y.append(r.uniform(lim_i,max_f))\n",
    "    x.append(r.uniform(lim_i,lim_f))\n",
    "\n",
    "i = 0\n",
    "N_r = 0\n",
    "while (i < N):\n",
    "    if (y[i] <= f(x[i])):\n",
    "        N_r += 1\n",
    "    i +=1 \n",
    "    \n",
    "A_f = (N_r/N)*A_r\n",
    "print(A_f)"
   ]
  },
  {
   "cell_type": "markdown",
   "id": "6dc17ddf-925e-4158-ae5f-9bd3362a5cfc",
   "metadata": {},
   "source": [
    "## Método da Amostragem Média"
   ]
  },
  {
   "cell_type": "code",
   "execution_count": null,
   "id": "8403592e-163c-4c6d-8ebf-7bb9af9450ef",
   "metadata": {},
   "outputs": [],
   "source": [
    "import numpy as np\n",
    "import math\n",
    "import random as r\n",
    "\n",
    "\n",
    "def f(x): return (10*(np.sin(x)/x))\n",
    "\n",
    "\n",
    "lim_i = 0 \n",
    "lim_f = np.pi\n",
    "\n",
    "N = 10**5\n",
    "\n",
    "x = []\n",
    "for i in range(N):\n",
    "    x.append(r.uniform(lim_i,lim_f))\n",
    "\n",
    "f_mean\n"
   ]
  }
 ],
 "metadata": {
  "kernelspec": {
   "display_name": "Python 3 (ipykernel)",
   "language": "python",
   "name": "python3"
  },
  "language_info": {
   "codemirror_mode": {
    "name": "ipython",
    "version": 3
   },
   "file_extension": ".py",
   "mimetype": "text/x-python",
   "name": "python",
   "nbconvert_exporter": "python",
   "pygments_lexer": "ipython3",
   "version": "3.8.10"
  }
 },
 "nbformat": 4,
 "nbformat_minor": 5
}
